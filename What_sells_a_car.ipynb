{
 "cells": [
  {
   "attachments": {},
   "cell_type": "markdown",
   "metadata": {},
   "source": [
    "# What sells a car?"
   ]
  },
  {
   "attachments": {},
   "cell_type": "markdown",
   "metadata": {},
   "source": [
    "We are analysts of an ads website for second hand vehicles. Hundreds of free vehicle ads are posted on our website every day. We need to study the data collected over the past few years and determine what factors influence the price of a vehicle."
   ]
  },
  {
   "attachments": {},
   "cell_type": "markdown",
   "metadata": {},
   "source": [
    "# Contents <a id='back'></a>"
   ]
  },
  {
   "attachments": {},
   "cell_type": "markdown",
   "metadata": {},
   "source": [
    "* [Intro](#intro)\n",
    "* [Stage 1. Data description](#data_review)\n",
    "    * [1.1 Explore initial data](#initial_data)\n",
    "* [Stage 2. Data preprocessing](#data_preprocessing)\n",
    "    * [2.1 Handle missing values (if any)](#handle_miss_values)\n",
    "    * [2.2 Correcting data types](#correct_data_types)\n",
    "    * [2.3  Enriching data](#Enriching_data)\n",
    "    * [2.4 Checking clean data](#Checking_clean_data)\n",
    "* [Stage 3. Exploratory data analysis](#exploratory_data_analysis)\n",
    "    * [3.1 Studying and working the outliers](#Studying_working_outliers)\n",
    "    * [3.2 Studying main parameters with outliers filtration](#Studying_main_parameters_with_outliers_filtration)\n",
    "    * [3.3 Ad placement period](#Ad_placement_period)\n",
    "    * [3.4 Average price for each type of vehicle](#avg_price_per_vehicle)\n",
    "    * [3.5 Price factor](#price_factor)\n",
    "* [Conclusion](#conclusion)"
   ]
  },
  {
   "attachments": {},
   "cell_type": "markdown",
   "metadata": {},
   "source": [
    "## Introduction <a id='intro'></a>"
   ]
  },
  {
   "cell_type": "markdown",
   "metadata": {},
   "source": [
    "In this exercise we are going to analyze a dataframe reporting several car selling publications.\n",
    "The aim is to find out which features are the most correlated with the price of the vehicle.\n",
    "To achieve our goal we will follow these steps:\n",
    "- Collecting data\n",
    "- Preparing data\n",
    "- Finding one or more solution prototype\n",
    "- Presenting the solution with graphics/diagrams"
   ]
  },
  {
   "attachments": {},
   "cell_type": "markdown",
   "metadata": {},
   "source": [
    "## Stage 1. Data description <a id='data_review'></a>"
   ]
  },
  {
   "cell_type": "code",
   "execution_count": null,
   "metadata": {},
   "outputs": [],
   "source": [
    "# Loading all libraries\n",
    "import pandas as pd\n",
    "import matplotlib.pyplot as plt"
   ]
  },
  {
   "cell_type": "code",
   "execution_count": null,
   "metadata": {},
   "outputs": [],
   "source": [
    "# Load the data file into a DataFrame\n",
    "df = pd.read_csv('vehicles_us.csv')"
   ]
  },
  {
   "attachments": {},
   "cell_type": "markdown",
   "metadata": {},
   "source": [
    "### 1.1 Explore initial data <a id='initial_data'></a>"
   ]
  },
  {
   "attachments": {},
   "cell_type": "markdown",
   "metadata": {},
   "source": [
    "The dataset contains the following fields:\n",
    "- `price`\n",
    "- `model_year`\n",
    "-`model`\n",
    "- `condition`\n",
    "- `cylinders`\n",
    "- `fuel` — gasoline, diesel, etc.\n",
    "- `odometer` — the mileage of the vehicle when the ad was posted\n",
    "- `transmission`\n",
    "- `paint_color`\n",
    "- `is_4wd` — if the vehicle has 4-wheel drive (Boolean type)\n",
    "- `date_posted` — the date the ad was posted\n",
    "- `days_listed` — from post to deletion"
   ]
  },
  {
   "cell_type": "code",
   "execution_count": null,
   "metadata": {},
   "outputs": [],
   "source": [
    "# printing the general/summary information about the DataFrame\n",
    "df.info()"
   ]
  },
  {
   "cell_type": "code",
   "execution_count": null,
   "metadata": {},
   "outputs": [],
   "source": [
    "# printing a data sample\n",
    "df.head()"
   ]
  },
  {
   "attachments": {},
   "cell_type": "markdown",
   "metadata": {},
   "source": [
    "Lets have a deeper view of the data"
   ]
  },
  {
   "cell_type": "code",
   "execution_count": null,
   "metadata": {},
   "outputs": [],
   "source": [
    "df.describe()"
   ]
  },
  {
   "cell_type": "markdown",
   "metadata": {},
   "source": [
    "So, we have a 51525x13 dataframe.By quickly reviewing the first lines we can see absent values in 'model_year', 'cylinders', 'odometer', 'paint_color' and 'is_4wd' column. The emptiest column is 'is_4wd'. \n",
    "Other weird thing is that values in 'model_year', 'cylinders' and 'is_4wd' are float instead of int and date columns are type object instead of datetime64"
   ]
  },
  {
   "cell_type": "markdown",
   "metadata": {},
   "source": [
    "Next step will be rearrange as int values the 'model_year', 'cylinders', 'odometer' and 'is_4wd' columns. After that we dive into the columns with absent values, evaluate the possible cause and think about a way to replace them."
   ]
  },
  {
   "attachments": {},
   "cell_type": "markdown",
   "metadata": {},
   "source": [
    "## Stage 2. Data preprocessing <a id='data_preprocessing'></a>"
   ]
  },
  {
   "attachments": {},
   "cell_type": "markdown",
   "metadata": {},
   "source": [
    "### 2.1 Handle missing values (if any) <a id='handle_miss_values'></a>"
   ]
  },
  {
   "cell_type": "markdown",
   "metadata": {},
   "source": [
    "Let's work on the column 'model_year'. We'll see what values there are in it, how many null value and the best way to replace them"
   ]
  },
  {
   "cell_type": "code",
   "execution_count": null,
   "metadata": {},
   "outputs": [],
   "source": [
    "df['model_year'].sort_values().unique()"
   ]
  },
  {
   "cell_type": "markdown",
   "metadata": {},
   "source": [
    "it seems there are reasonable year in it, maybe someone very old (more than a century) but still reasonable."
   ]
  },
  {
   "cell_type": "code",
   "execution_count": null,
   "metadata": {},
   "outputs": [],
   "source": [
    "df['model_year'].isna().sum()"
   ]
  },
  {
   "cell_type": "markdown",
   "metadata": {},
   "source": [
    "We notice that there are 3619 absent values in \"model_year\". To replace them I think the best thing to do evaluate the mileage of similar vehicles but before we must be sure that we have the 'odometer' value within the rows where 'model_year' is missing."
   ]
  },
  {
   "cell_type": "markdown",
   "metadata": {},
   "source": [
    "We now apply multiple conditions to filter data in \"model_year\" and \"odometer\" columns to see if we can use the \"odometer\" column to replace the null values in \"model_year\""
   ]
  },
  {
   "cell_type": "code",
   "execution_count": null,
   "metadata": {},
   "outputs": [],
   "source": [
    "filtro_model_year = df['model_year'].isna()\n",
    "filtro_odometer = df['odometer'].isna()\n",
    "comb_1 = df[filtro_model_year & filtro_odometer]\n",
    "\n",
    "len(comb_1)"
   ]
  },
  {
   "cell_type": "markdown",
   "metadata": {},
   "source": [
    "Nope, we can't use 'odometer' values to help replacing the absent values in 'model_year'. The second best option is using pricing category of similar vehicles."
   ]
  },
  {
   "cell_type": "markdown",
   "metadata": {},
   "source": [
    "Lets do the same as we did just before:"
   ]
  },
  {
   "cell_type": "code",
   "execution_count": null,
   "metadata": {},
   "outputs": [],
   "source": [
    "filtro_model_year = df['model_year'].isna()\n",
    "filtro_price = df['price'].isna()\n",
    "comb_2 = df[filtro_model_year & filtro_price]\n",
    "\n",
    "len(comb_2)"
   ]
  },
  {
   "cell_type": "markdown",
   "metadata": {},
   "source": [
    "Ok, we are sure that, when we do not have the 'model_year' value in a row, we do have 'price' value. "
   ]
  },
  {
   "cell_type": "markdown",
   "metadata": {},
   "source": [
    "And now we will replace the null values in 'model_year' with the median value of the corresponding 'model'."
   ]
  },
  {
   "cell_type": "code",
   "execution_count": null,
   "metadata": {},
   "outputs": [],
   "source": [
    "def my_lambda(x):\n",
    "    return x.fillna(x.median())\n",
    "\n",
    "model_year_meds = df.groupby(['model'])['model_year'].transform(lambda x: my_lambda(x))\n",
    "\n",
    "\n",
    "df['model_year'] = df['model_year'].fillna(model_year_meds)"
   ]
  },
  {
   "cell_type": "markdown",
   "metadata": {},
   "source": [
    "To simplify things up, lets take the int of every value and verify them again"
   ]
  },
  {
   "cell_type": "code",
   "execution_count": null,
   "metadata": {},
   "outputs": [],
   "source": [
    "df['model_year'] = df['model_year'].astype(int)\n",
    "df['model_year'].sort_values().unique()"
   ]
  },
  {
   "cell_type": "markdown",
   "metadata": {},
   "source": [
    "Let's skip now to the second column with null-values 'cylinders'. We proceed in a similar way as 'model_year'"
   ]
  },
  {
   "cell_type": "code",
   "execution_count": null,
   "metadata": {},
   "outputs": [],
   "source": [
    "df['cylinders'].sort_values().unique()"
   ]
  },
  {
   "cell_type": "markdown",
   "metadata": {},
   "source": [
    "And now we will replace the null values in 'cylinders' with the mean value of the corresponding 'model'."
   ]
  },
  {
   "cell_type": "code",
   "execution_count": null,
   "metadata": {},
   "outputs": [],
   "source": [
    "def my_lambda(y):\n",
    "    return y.fillna(y.median())\n",
    "\n",
    "cylinders_meds = df.groupby(['model'])['cylinders'].transform(lambda y: my_lambda(y))\n",
    "\n",
    "df['cylinders'] = df['cylinders'].fillna(cylinders_meds).round().astype(int)"
   ]
  },
  {
   "cell_type": "markdown",
   "metadata": {},
   "source": [
    "We verify the final values to see if the null values are gone"
   ]
  },
  {
   "cell_type": "code",
   "execution_count": null,
   "metadata": {},
   "outputs": [],
   "source": [
    "df['cylinders'].sort_values().unique()"
   ]
  },
  {
   "cell_type": "markdown",
   "metadata": {},
   "source": [
    "Ok, let's skip now to the third column with null-values 'odometer'. We proceed in a similar way as 'model_year'"
   ]
  },
  {
   "cell_type": "code",
   "execution_count": null,
   "metadata": {},
   "outputs": [],
   "source": [
    "def my_lambda(z):\n",
    "    return z.fillna(z.median())\n",
    "\n",
    "odometer_meds = df.groupby(['condition'])['odometer'].transform(lambda z: my_lambda(z))\n",
    "\n",
    "df['odometer'] = df['odometer'].fillna(odometer_meds)"
   ]
  },
  {
   "cell_type": "code",
   "execution_count": null,
   "metadata": {},
   "outputs": [],
   "source": [
    "df['odometer'] = df['odometer'].round().astype(int)"
   ]
  },
  {
   "cell_type": "markdown",
   "metadata": {},
   "source": [
    "Next column with null values is 'paint_color'. So lets dive into it"
   ]
  },
  {
   "cell_type": "code",
   "execution_count": null,
   "metadata": {},
   "outputs": [],
   "source": [
    "df['paint_color'].sort_values().unique()"
   ]
  },
  {
   "cell_type": "markdown",
   "metadata": {},
   "source": [
    "All colors are reasonable but there's an exception: 'custom' does not mean anything per se. So, we will use \"custom\" to replace null_values"
   ]
  },
  {
   "cell_type": "code",
   "execution_count": null,
   "metadata": {},
   "outputs": [],
   "source": [
    "df['paint_color'] = df['paint_color'].fillna('custom')"
   ]
  },
  {
   "cell_type": "markdown",
   "metadata": {},
   "source": [
    "Lets verify the effective replacing:"
   ]
  },
  {
   "cell_type": "code",
   "execution_count": null,
   "metadata": {},
   "outputs": [],
   "source": [
    "df['paint_color'].sort_values().unique()"
   ]
  },
  {
   "attachments": {},
   "cell_type": "markdown",
   "metadata": {},
   "source": [
    "Ok! We now skip to 'is_4wd' column.\n",
    "In this case, since we have a boolean and there are only 1 in the column we can assume that the missing values are zeros. Since the type of this column is float we also change it to boolean"
   ]
  },
  {
   "cell_type": "code",
   "execution_count": null,
   "metadata": {},
   "outputs": [],
   "source": [
    "df['is_4wd'] = df['is_4wd'].fillna(0)\n",
    "df['is_4wd'] = df['is_4wd'].astype('bool')"
   ]
  },
  {
   "attachments": {},
   "cell_type": "markdown",
   "metadata": {},
   "source": [
    "### 2.2 Correcting data types <a id='correct_data_types'></a>"
   ]
  },
  {
   "cell_type": "markdown",
   "metadata": {},
   "source": [
    "\n",
    "After the previous operations, lets see the dataframe info "
   ]
  },
  {
   "cell_type": "code",
   "execution_count": null,
   "metadata": {},
   "outputs": [],
   "source": [
    "df.info()"
   ]
  },
  {
   "cell_type": "markdown",
   "metadata": {},
   "source": [
    "We have now a totally filled dataframe. The only weird thing is that \"date_posted\" type is object instead of datetime64. Lets work it"
   ]
  },
  {
   "cell_type": "code",
   "execution_count": null,
   "metadata": {},
   "outputs": [],
   "source": [
    "df['date_posted'] = pd.to_datetime(df['date_posted'], format='%Y-%m-%dT%H:%M:%S')"
   ]
  },
  {
   "cell_type": "markdown",
   "metadata": {},
   "source": [
    "Now we verify:"
   ]
  },
  {
   "cell_type": "code",
   "execution_count": null,
   "metadata": {},
   "outputs": [],
   "source": [
    "df['date_posted'].info()"
   ]
  },
  {
   "cell_type": "markdown",
   "metadata": {},
   "source": [
    "Ok, well done!"
   ]
  },
  {
   "attachments": {},
   "cell_type": "markdown",
   "metadata": {},
   "source": [
    "### 2.3 Enriching data <a id='Enriching_data'></a>"
   ]
  },
  {
   "cell_type": "markdown",
   "metadata": {},
   "source": [
    "Lets have the age of the vehicle when the post was placed and insert it in a new column \"car_age\""
   ]
  },
  {
   "cell_type": "code",
   "execution_count": null,
   "metadata": {},
   "outputs": [],
   "source": [
    "# Adding the years of the vehicle when the ad was placed\n",
    "date_col = pd.DatetimeIndex(df['date_posted'])\n",
    "df['car_age'] = date_col.year - df['model_year']"
   ]
  },
  {
   "cell_type": "markdown",
   "metadata": {},
   "source": [
    "Lets now verify it using describe()"
   ]
  },
  {
   "cell_type": "code",
   "execution_count": null,
   "metadata": {},
   "outputs": [],
   "source": [
    "df['car_age'].describe()"
   ]
  },
  {
   "attachments": {},
   "cell_type": "markdown",
   "metadata": {},
   "source": [
    "Ok, \"car_age\" column seems reasonable. Only thing we'll do is replacing its zeros to one and since we have to do this on zeros we should do the same for all the column."
   ]
  },
  {
   "cell_type": "code",
   "execution_count": null,
   "metadata": {},
   "outputs": [],
   "source": [
    "df['car_age'] = df['car_age'] + 1"
   ]
  },
  {
   "cell_type": "markdown",
   "metadata": {},
   "source": [
    "And now the vehicle mileage per year"
   ]
  },
  {
   "cell_type": "code",
   "execution_count": null,
   "metadata": {},
   "outputs": [],
   "source": [
    "# Adding average vehicle mileage per year\n",
    "df['miles/year'] = (df['odometer'] / df['car_age']).round(0)\n",
    "df['miles/year'] = df['miles/year'].astype('int')"
   ]
  },
  {
   "cell_type": "markdown",
   "metadata": {},
   "source": [
    "It might be useful to replace the condition values with something that can be more easily manipulated. So lets do it"
   ]
  },
  {
   "cell_type": "code",
   "execution_count": null,
   "metadata": {},
   "outputs": [],
   "source": [
    "# It might be useful to replace the condition values with something that can be more easily manipulated\n",
    "def condition_index(condition):\n",
    "    \"\"\"\n",
    "    The function returns the condition index according to the previous analysis, using the following rules:\n",
    "    — index = 5 (max) for 'new' condition\n",
    "    — index = 4 for 'like new' condition\n",
    "    — index = 3 for 'excelent' condition\n",
    "    — index = 2 for 'good' condition\n",
    "    — index = 1 for 'fair' condition\n",
    "    — index = 0 (min) for 'salvage' condition\n",
    "    \"\"\"\n",
    "    \n",
    "    if condition == 'new':\n",
    "        return 5\n",
    "    if condition == 'like new':\n",
    "        return 4\n",
    "    if condition == 'excellent':\n",
    "        return 3\n",
    "    if condition == 'good':\n",
    "        return 2\n",
    "    if condition == 'fair':\n",
    "        return 1\n",
    "    if condition == 'salvage':\n",
    "        return 0"
   ]
  },
  {
   "cell_type": "markdown",
   "metadata": {},
   "source": [
    "Let's create a new column 'condition_ind' using the previous function"
   ]
  },
  {
   "cell_type": "code",
   "execution_count": null,
   "metadata": {},
   "outputs": [],
   "source": [
    "df['condition_ind'] = df['condition'].map(condition_index)"
   ]
  },
  {
   "cell_type": "markdown",
   "metadata": {},
   "source": [
    "Lets find now the day of the week when the vehicle has been posted and add it in a new column \"day_posted\""
   ]
  },
  {
   "cell_type": "code",
   "execution_count": null,
   "metadata": {},
   "outputs": [],
   "source": [
    "df['day_posted'] = df['date_posted'].dt.weekday"
   ]
  },
  {
   "cell_type": "markdown",
   "metadata": {},
   "source": [
    "The same with month:"
   ]
  },
  {
   "cell_type": "code",
   "execution_count": null,
   "metadata": {},
   "outputs": [],
   "source": [
    "df['month_posted'] = df['date_posted'].dt.month"
   ]
  },
  {
   "attachments": {},
   "cell_type": "markdown",
   "metadata": {},
   "source": [
    "### 2.4 Checking clean data <a id='Checking_clean_data'></a>"
   ]
  },
  {
   "cell_type": "markdown",
   "metadata": {},
   "source": [
    "Since the data is ready for analysis, we take another quick look at it. It is useful to see what exactly we are going to use for analysis."
   ]
  },
  {
   "cell_type": "code",
   "execution_count": null,
   "metadata": {},
   "outputs": [],
   "source": [
    "# printing the general/summary information about the DataFrame\n",
    "df.info()"
   ]
  },
  {
   "cell_type": "code",
   "execution_count": null,
   "metadata": {},
   "outputs": [],
   "source": [
    "# printing a data sample\n",
    "df.head()"
   ]
  },
  {
   "attachments": {},
   "cell_type": "markdown",
   "metadata": {},
   "source": [
    "## Stage 3. Exploratory data analysis <a id='exploratory_data_analysis'></a>"
   ]
  },
  {
   "cell_type": "markdown",
   "metadata": {},
   "source": [
    "We are now going to study the parameters listed below, paying special attention to how outliers affect the shape histograms."
   ]
  },
  {
   "cell_type": "markdown",
   "metadata": {},
   "source": [
    "Los parámetros son:\n",
    "- Precio\n",
    "- Los años del vehículo cuando el anuncio se colocó\n",
    "- Millaje\n",
    "- Número de cilindros\n",
    "- Estado"
   ]
  },
  {
   "cell_type": "code",
   "execution_count": null,
   "metadata": {},
   "outputs": [],
   "source": [
    "mean_price = df.pivot_table(index='model', values='price')\n",
    "mean_price.hist(edgecolor = 'black')\n",
    "plt.title('Mean price related with the number of models')\n",
    "plt.xlabel('price ($)')\n",
    "plt.ylabel('number of models')\n",
    "plt.show()"
   ]
  },
  {
   "cell_type": "markdown",
   "metadata": {},
   "source": [
    "In the last graph, the horizontal axis tells us the price, while the vertical axis tells us the number of each model (100 in total) with average prices in each interval.We see that there are two little bars detached. This may be due to outliers."
   ]
  },
  {
   "attachments": {},
   "cell_type": "markdown",
   "metadata": {},
   "source": [
    "Lets now do the same things but this time in the y-axis there'll be the brute number of vehicles."
   ]
  },
  {
   "cell_type": "code",
   "execution_count": null,
   "metadata": {},
   "outputs": [],
   "source": [
    "df.hist('price', bins=100, edgecolor = 'black')\n",
    "plt.xlim(0, 80000)\n",
    "plt.title('Mean price related with the number of cars')\n",
    "plt.xlabel('price ($)')\n",
    "plt.ylabel('number of vehicles')\n",
    "plt.show()"
   ]
  },
  {
   "attachments": {},
   "cell_type": "markdown",
   "metadata": {},
   "source": [
    "In this case, is quite hard to recognize any outliers"
   ]
  },
  {
   "attachments": {},
   "cell_type": "markdown",
   "metadata": {},
   "source": [
    "Lets repeat the process with the car_age column"
   ]
  },
  {
   "cell_type": "code",
   "execution_count": null,
   "metadata": {},
   "outputs": [],
   "source": [
    "mean_car_age = df.pivot_table(index='model', values='car_age')\n",
    "mean_car_age.hist(edgecolor = 'black')\n",
    "plt.title('Mean age related with the number of models')\n",
    "plt.xlabel('age (years)')\n",
    "plt.ylabel('number of models')\n",
    "plt.show()"
   ]
  },
  {
   "cell_type": "markdown",
   "metadata": {},
   "source": [
    "Im this last there's definitely some outliers due to the little bar on the right"
   ]
  },
  {
   "cell_type": "code",
   "execution_count": null,
   "metadata": {},
   "outputs": [],
   "source": [
    "df.hist('car_age', bins=40, edgecolor = 'black')\n",
    "plt.title('Mean age related with the number of cars')\n",
    "plt.xlabel('age')\n",
    "plt.ylabel('number of vehicles')\n",
    "plt.show()"
   ]
  },
  {
   "attachments": {},
   "cell_type": "markdown",
   "metadata": {},
   "source": [
    "Lets repeat the process with the odometer column"
   ]
  },
  {
   "cell_type": "code",
   "execution_count": null,
   "metadata": {},
   "outputs": [],
   "source": [
    "median_mileage = df.pivot_table(index='model', values='odometer', aggfunc='median')\n",
    "median_mileage.hist(edgecolor = 'black')\n",
    "plt.title('Median mileage related with the number of models')\n",
    "plt.xlabel('mileage (miles)')\n",
    "plt.ylabel('number of models')\n",
    "plt.show()"
   ]
  },
  {
   "cell_type": "markdown",
   "metadata": {},
   "source": [
    "It seems there are no outliers in this last histograms "
   ]
  },
  {
   "cell_type": "code",
   "execution_count": null,
   "metadata": {},
   "outputs": [],
   "source": [
    "df.hist('odometer', bins=40, edgecolor = 'black')\n",
    "plt.title('mileage related with the number of cars')\n",
    "plt.xlabel('mileage')\n",
    "plt.ylabel('number of vehicles')\n",
    "plt.show()"
   ]
  },
  {
   "cell_type": "markdown",
   "metadata": {},
   "source": [
    "Lets analyze now the cylinder column. In this case, we use another method because there are not engines with floating number of cylinders so it is better that we avoid dynamic table."
   ]
  },
  {
   "cell_type": "code",
   "execution_count": null,
   "metadata": {},
   "outputs": [],
   "source": [
    "df['cylinders'].value_counts().plot(kind='bar', grid=True)\n",
    "plt.xticks(rotation=0)\n",
    "plt.show()"
   ]
  },
  {
   "cell_type": "markdown",
   "metadata": {},
   "source": [
    "There's not much to say about it. We see that most of cars ~17500 are 8 cylinders and less than 1000 are 7, 5 and 10 cylinders. Very few ones have 3, 9 or 12 cylinders"
   ]
  },
  {
   "cell_type": "markdown",
   "metadata": {},
   "source": [
    "We do the same with the condition column"
   ]
  },
  {
   "cell_type": "code",
   "execution_count": null,
   "metadata": {},
   "outputs": [],
   "source": [
    "df['condition'].value_counts().plot(kind='bar', grid=True)\n",
    "plt.xticks(rotation=45)\n",
    "plt.show()"
   ]
  },
  {
   "cell_type": "markdown",
   "metadata": {},
   "source": [
    "Ok then, the majority of cars are in excellent conditon and very few ones are in savage condition"
   ]
  },
  {
   "attachments": {},
   "cell_type": "markdown",
   "metadata": {},
   "source": [
    "### 3.1 Studying and working the outliers <a id='Studying_working_outliers'></a>"
   ]
  },
  {
   "cell_type": "markdown",
   "metadata": {},
   "source": [
    "Next step is creating a DataFrame without outliers. The outliers can be identified after defining the lower/upper bound for the normal range of values."
   ]
  },
  {
   "cell_type": "markdown",
   "metadata": {},
   "source": [
    "Before doing that, lets see the outliers model by model in relation with price and mean age "
   ]
  },
  {
   "cell_type": "code",
   "execution_count": null,
   "metadata": {},
   "outputs": [],
   "source": [
    "df.boxplot(column='price', by='model', figsize=(50, 6))\n",
    "plt.xticks(rotation=90)\n",
    "plt.xlabel('car model')\n",
    "plt.show()"
   ]
  },
  {
   "cell_type": "markdown",
   "metadata": {},
   "source": [
    "Cool! we have definitely a better perspective now"
   ]
  },
  {
   "attachments": {},
   "cell_type": "markdown",
   "metadata": {},
   "source": [
    "If the analysis model by model is not important for us, then the following boxplot is more appropriate"
   ]
  },
  {
   "cell_type": "code",
   "execution_count": null,
   "metadata": {},
   "outputs": [],
   "source": [
    "df.boxplot(column='price')\n",
    "plt.title('Price analysis related to the number of vehicles')\n",
    "plt.ylabel('number of vehicles')\n",
    "plt.show()"
   ]
  },
  {
   "attachments": {},
   "cell_type": "markdown",
   "metadata": {},
   "source": [
    "Lets repeat the process with average car age:"
   ]
  },
  {
   "cell_type": "code",
   "execution_count": null,
   "metadata": {},
   "outputs": [],
   "source": [
    "df.boxplot(column='car_age', by='model', figsize=(50, 6))\n",
    "plt.xticks(rotation=90)\n",
    "plt.xlabel('car model')\n",
    "plt.show()"
   ]
  },
  {
   "attachments": {},
   "cell_type": "markdown",
   "metadata": {},
   "source": [
    "If the analysis model by model is not important for us, then the following boxplot is more appropriate"
   ]
  },
  {
   "cell_type": "code",
   "execution_count": null,
   "metadata": {},
   "outputs": [],
   "source": [
    "df.boxplot(column='car_age')\n",
    "plt.title('Age analysis related to the number of vehicles')\n",
    "plt.ylabel('number of vehicles')\n",
    "plt.show()"
   ]
  },
  {
   "cell_type": "markdown",
   "metadata": {},
   "source": [
    "Now we are going to work on the outliers. Lets begin to the ones related to price"
   ]
  },
  {
   "cell_type": "markdown",
   "metadata": {},
   "source": [
    "Since we are working model by model, first step is create a table that contains lower quartile, upper quartile, median, upper and lower bound for every car model."
   ]
  },
  {
   "cell_type": "code",
   "execution_count": null,
   "metadata": {},
   "outputs": [],
   "source": [
    "table_price = df.groupby(\"model\")[\"price\"].describe()\n",
    "table_price[\"upper_bound\"] = table_price[\"75%\"] + 1.5*(table_price[\"75%\"] - table_price[\"25%\"])\n",
    "table_price[\"lower_bound\"] = table_price[\"25%\"] - 1.5*(table_price[\"75%\"] - table_price[\"25%\"])\n",
    "table_price"
   ]
  },
  {
   "cell_type": "markdown",
   "metadata": {},
   "source": [
    "Now we are going to filter the original dataframe with the values just found "
   ]
  },
  {
   "cell_type": "markdown",
   "metadata": {},
   "source": [
    "To do so, we initialize a new empty dataframe (df_price_filtered) and fill it row by row using a for cycle"
   ]
  },
  {
   "cell_type": "code",
   "execution_count": null,
   "metadata": {},
   "outputs": [],
   "source": [
    "df_price_filtered = pd.DataFrame()\n",
    "\n",
    "for model in df['model'].unique():\n",
    "    new_df =df.loc[ (df['model'] == model) & (df['price'] < table_price.loc[model, \"upper_bound\"]) & (df['price'] > table_price.loc[model, \"lower_bound\"])]\n",
    "    df_price_filtered = df_price_filtered.append(new_df)"
   ]
  },
  {
   "cell_type": "markdown",
   "metadata": {},
   "source": [
    "We have now a one time (by the price) filtered dataframe. Lets see the size of this new dataframe"
   ]
  },
  {
   "cell_type": "code",
   "execution_count": null,
   "metadata": {},
   "outputs": [],
   "source": [
    "df_price_filtered.shape"
   ]
  },
  {
   "cell_type": "markdown",
   "metadata": {},
   "source": [
    "So 1632 rows have been filtered"
   ]
  },
  {
   "cell_type": "markdown",
   "metadata": {},
   "source": [
    "Now, lets take the price filtered dataframe and filter it by the average age"
   ]
  },
  {
   "cell_type": "code",
   "execution_count": null,
   "metadata": {},
   "outputs": [],
   "source": [
    "table_age = df_price_filtered.groupby(\"model\")[\"car_age\"].describe()\n",
    "table_age[\"upper_bound\"] = table_age[\"75%\"] + 1.5*(table_age[\"75%\"] - table_age[\"25%\"])\n",
    "table_age[\"lower_bound\"] = table_age[\"25%\"] - 1.5*(table_age[\"75%\"] - table_age[\"25%\"])\n",
    "table_age"
   ]
  },
  {
   "cell_type": "markdown",
   "metadata": {},
   "source": [
    "Now we are going to filter the price filtered dataframe (df_price_filtered) with the values just found "
   ]
  },
  {
   "cell_type": "markdown",
   "metadata": {},
   "source": [
    "To do so, we initialize a new empty dataframe (df_price_age_filtered) and fill it row by row using a for cycle"
   ]
  },
  {
   "cell_type": "code",
   "execution_count": null,
   "metadata": {},
   "outputs": [],
   "source": [
    "df_price_age_filtered = pd.DataFrame()\n",
    "\n",
    "for model in df_price_filtered['model'].unique():\n",
    "    new_df2 =df_price_filtered.loc[ (df_price_filtered['model'] == model) & (df_price_filtered['car_age'] < table_age.loc[model, \"upper_bound\"]) & (df_price_filtered['car_age'] > table_age.loc[model, \"lower_bound\"])]\n",
    "    df_price_age_filtered = df_price_age_filtered.append(new_df2)"
   ]
  },
  {
   "cell_type": "markdown",
   "metadata": {},
   "source": [
    "We have now a two times (by the price and age) filtered dataframe. Lets see the size of this new dataframe"
   ]
  },
  {
   "cell_type": "code",
   "execution_count": null,
   "metadata": {},
   "outputs": [],
   "source": [
    "df_price_age_filtered.shape"
   ]
  },
  {
   "attachments": {},
   "cell_type": "markdown",
   "metadata": {},
   "source": [
    "Other 1000 lines have been filtered and so we have (1632 + 1000) 2632 rows less than the original dataframe"
   ]
  },
  {
   "attachments": {},
   "cell_type": "markdown",
   "metadata": {},
   "source": [
    "Lets now plot the new filtered dataframes, the first two taking into account the model by model and the others with no discrimination"
   ]
  },
  {
   "cell_type": "code",
   "execution_count": null,
   "metadata": {},
   "outputs": [],
   "source": [
    "df_price_age_filtered.boxplot(column='price', by='model', figsize=(50, 6))\n",
    "plt.xticks(rotation=90)\n",
    "plt.title('filtered dataframe')\n",
    "plt.xlabel('car model')\n",
    "plt.show()"
   ]
  },
  {
   "attachments": {},
   "cell_type": "markdown",
   "metadata": {},
   "source": [
    "Of course there are still outliers but they are definetly less"
   ]
  },
  {
   "cell_type": "code",
   "execution_count": null,
   "metadata": {},
   "outputs": [],
   "source": [
    "df_price_age_filtered.boxplot(column='car_age', by='model', figsize=(50, 6))\n",
    "plt.xticks(rotation=90)\n",
    "plt.title('filtered dataframe')\n",
    "plt.xlabel('car model')\n",
    "plt.show()"
   ]
  },
  {
   "attachments": {},
   "cell_type": "markdown",
   "metadata": {},
   "source": [
    "The difference with the original dataframe is more remarkable as the other ones"
   ]
  },
  {
   "attachments": {},
   "cell_type": "markdown",
   "metadata": {},
   "source": [
    "And now lets see boxplots  with no model distinction"
   ]
  },
  {
   "cell_type": "code",
   "execution_count": null,
   "metadata": {},
   "outputs": [],
   "source": [
    "df_price_age_filtered.boxplot(column='price')\n",
    "plt.title('Price analysis related to the number of vehicles')\n",
    "plt.ylabel('number of vehicles')\n",
    "plt.show()"
   ]
  },
  {
   "attachments": {},
   "cell_type": "markdown",
   "metadata": {},
   "source": [
    "The y range has decreased substantially and this is a good sign of filtration"
   ]
  },
  {
   "cell_type": "code",
   "execution_count": null,
   "metadata": {},
   "outputs": [],
   "source": [
    "df_price_age_filtered.boxplot(column='car_age')\n",
    "plt.title('Age analysis related to the number of vehicles')\n",
    "plt.ylabel('number of vehicles')\n",
    "plt.show()"
   ]
  },
  {
   "attachments": {},
   "cell_type": "markdown",
   "metadata": {},
   "source": [
    "Here as well we can appreciate a good filtration because the outliers are much less."
   ]
  },
  {
   "attachments": {},
   "cell_type": "markdown",
   "metadata": {},
   "source": [
    "### 3.2 Studying main parameters with outliers filtration <a id='Studying_main_parameters_with_outliers_filtration'></a>"
   ]
  },
  {
   "cell_type": "markdown",
   "metadata": {},
   "source": [
    "Now we use the filtered dataframe to create new histograms and compare them with the original"
   ]
  },
  {
   "cell_type": "code",
   "execution_count": null,
   "metadata": {},
   "outputs": [],
   "source": [
    "mean_price_filt = df_price_age_filtered.pivot_table(index='model', values='price')\n",
    "plt.hist(mean_price, edgecolor = 'black', label= 'original dataframe')\n",
    "plt.hist(mean_price_filt, edgecolor = 'black', alpha = 0.65, label= 'filtered dataframe')\n",
    "plt.legend(loc='upper right')\n",
    "plt.xlabel('price ($)')\n",
    "plt.show()"
   ]
  },
  {
   "cell_type": "markdown",
   "metadata": {},
   "source": [
    "Cool ! The price outliers are disapperead "
   ]
  },
  {
   "cell_type": "markdown",
   "metadata": {},
   "source": [
    "Lets do the same with mean age as well:"
   ]
  },
  {
   "cell_type": "code",
   "execution_count": null,
   "metadata": {},
   "outputs": [],
   "source": [
    "mean_car_age_filt = df_price_age_filtered.pivot_table(index='model', values='car_age')\n",
    "plt.hist(mean_car_age, edgecolor = 'black', label= 'original dataframe')\n",
    "plt.hist(mean_car_age_filt, edgecolor = 'black', alpha = 0.65, label= 'filtered dataframe')\n",
    "plt.legend(loc='upper right')\n",
    "plt.xlabel('age (years)')\n",
    "plt.show()"
   ]
  },
  {
   "cell_type": "markdown",
   "metadata": {},
   "source": [
    "For an unknown reason, also the filterd dataframe present an outliers. It may be the case to filter the outliers once more but in this case we keep it like this."
   ]
  },
  {
   "attachments": {},
   "cell_type": "markdown",
   "metadata": {},
   "source": [
    "### 3.3 Ad placement period <a id='Ad_placement_period'></a>"
   ]
  },
  {
   "cell_type": "markdown",
   "metadata": {},
   "source": [
    "Lets see model by model how many days cars have been posted taking into account mean and median value and have them arranged in descending order."
   ]
  },
  {
   "cell_type": "code",
   "execution_count": null,
   "metadata": {},
   "outputs": [],
   "source": [
    "time_posted_by_model = df_price_age_filtered.groupby('model').agg({'days_listed': ['median', 'mean']}).astype('int')\n",
    "time_posted_by_model.columns = ['median', 'mean']\n",
    "time_posted_by_model.sort_values(by='median', ascending=False, inplace=True)\n",
    "time_posted_by_model"
   ]
  },
  {
   "cell_type": "markdown",
   "metadata": {},
   "source": [
    "Lets see now the period of habitual placement of an ad."
   ]
  },
  {
   "cell_type": "code",
   "execution_count": null,
   "metadata": {},
   "outputs": [],
   "source": [
    "df_price_age_filtered.groupby('day_posted')['day_posted'].count().sort_values(ascending=False)"
   ]
  },
  {
   "cell_type": "code",
   "execution_count": null,
   "metadata": {},
   "outputs": [],
   "source": [
    "df_price_age_filtered.groupby('month_posted')['month_posted'].count().sort_values(ascending=False)"
   ]
  },
  {
   "cell_type": "markdown",
   "metadata": {},
   "source": [
    "This means that most of the publication occur on Thursday and October"
   ]
  },
  {
   "cell_type": "markdown",
   "metadata": {},
   "source": [
    "Now we are going to determine when posts are quickly removed and when they are running for a long time"
   ]
  },
  {
   "cell_type": "code",
   "execution_count": null,
   "metadata": {},
   "outputs": [],
   "source": [
    "table_type = df_price_age_filtered.groupby(\"type\")[\"days_listed\"].describe()\n",
    "table_type.sort_values(by='50%', ascending=False, inplace=True)\n",
    "table_type"
   ]
  },
  {
   "cell_type": "markdown",
   "metadata": {},
   "source": [
    "So, taking into account the median value, bus is the type of vehicle that takes longer to be sold whereas van take less. Anyway we can detect some atipical max values well beyond the mean and median values"
   ]
  },
  {
   "attachments": {},
   "cell_type": "markdown",
   "metadata": {},
   "source": [
    "Without considering the vehicle type, lets see how many days_listed could be considered abnormally long and how many publication days could be considered abnormally short."
   ]
  },
  {
   "cell_type": "code",
   "execution_count": null,
   "metadata": {},
   "outputs": [],
   "source": [
    "df_price_age_filtered['days_listed'].describe()"
   ]
  },
  {
   "cell_type": "code",
   "execution_count": null,
   "metadata": {},
   "outputs": [],
   "source": [
    "df_price_age_filtered.boxplot(column='days_listed')\n",
    "plt.title(\"'days_listed' related to the number of vehicles\")\n",
    "plt.ylabel('number of vehicles')\n",
    "plt.show()"
   ]
  },
  {
   "attachments": {},
   "cell_type": "markdown",
   "metadata": {},
   "source": [
    "So, generally speaking, all the values above 100 days could be considered outliers."
   ]
  },
  {
   "attachments": {},
   "cell_type": "markdown",
   "metadata": {},
   "source": [
    "### 3.4 Average price for each type of vehicle <a id='avg_price_per_vehicle'></a>"
   ]
  },
  {
   "attachments": {},
   "cell_type": "markdown",
   "metadata": {},
   "source": [
    "Lets now consider the average price for each type of vehicle."
   ]
  },
  {
   "cell_type": "code",
   "execution_count": null,
   "metadata": {},
   "outputs": [],
   "source": [
    "price_by_type = df_price_age_filtered.groupby('type').agg({'price': ['median', 'mean']})\n",
    "price_by_type.columns = ['median', 'mean price']\n",
    "price_by_type.sort_values(by='median', ascending=False, inplace=True)\n",
    "price_by_type"
   ]
  },
  {
   "attachments": {},
   "cell_type": "markdown",
   "metadata": {},
   "source": [
    "The type of vehicles sold for the highest price are the trucks whereas hatchback are sold with the lowest price"
   ]
  },
  {
   "cell_type": "markdown",
   "metadata": {},
   "source": [
    "Lets now draw a graph showing the number of advertisements on each type of vehicle."
   ]
  },
  {
   "cell_type": "code",
   "execution_count": null,
   "metadata": {},
   "outputs": [],
   "source": [
    "df_price_age_filtered['type'].value_counts().plot(kind='bar', grid=True)\n",
    "plt.xticks(rotation=65)\n",
    "plt.show()"
   ]
  },
  {
   "cell_type": "markdown",
   "metadata": {},
   "source": [
    "SUV and truck type are the most posted"
   ]
  },
  {
   "attachments": {},
   "cell_type": "markdown",
   "metadata": {},
   "source": [
    "### 3.5 Price factor <a id='price_factor'></a>"
   ]
  },
  {
   "attachments": {},
   "cell_type": "markdown",
   "metadata": {},
   "source": [
    "Lets see now which factors impact the price the most. To do that we take each of the most popular types of vehicle we discovered in the previous step (truck and suv) and see if the price depends on age, mileage, condition, transmission type, and color."
   ]
  },
  {
   "cell_type": "markdown",
   "metadata": {},
   "source": [
    "First step to do so is create a new dataframe that take into account only Truck type vehicles"
   ]
  },
  {
   "cell_type": "code",
   "execution_count": null,
   "metadata": {},
   "outputs": [],
   "source": [
    "truck_filter = df_price_age_filtered['type'] == 'truck'\n",
    "truck = df_price_age_filtered[truck_filter]"
   ]
  },
  {
   "cell_type": "markdown",
   "metadata": {},
   "source": [
    "Since the last dataframe has 18 column but we need just need 6 we have to eliminate some columns"
   ]
  },
  {
   "cell_type": "code",
   "execution_count": null,
   "metadata": {},
   "outputs": [],
   "source": [
    "new_truck = truck.drop(['model_year', 'model', 'condition', 'cylinders', 'fuel', 'is_4wd', 'date_posted', 'days_listed', 'miles/year', 'day_posted', 'month_posted'], axis='columns')"
   ]
  },
  {
   "cell_type": "markdown",
   "metadata": {},
   "source": [
    "Lets use now the correlation matrix:"
   ]
  },
  {
   "cell_type": "code",
   "execution_count": null,
   "metadata": {},
   "outputs": [],
   "source": [
    "new_truck.corr()"
   ]
  },
  {
   "cell_type": "markdown",
   "metadata": {},
   "source": [
    "As we could imagine, price and milage are inversely proportional. Same for price and age while, of course the price raises with better conditions"
   ]
  },
  {
   "cell_type": "markdown",
   "metadata": {},
   "source": [
    "To analyze the correlation with categorical variables (transmission type and color) we use boxplot"
   ]
  },
  {
   "cell_type": "code",
   "execution_count": null,
   "metadata": {},
   "outputs": [],
   "source": [
    "new_truck.boxplot(column='price', by='paint_color')\n",
    "plt.xticks(rotation=60)\n",
    "plt.xlabel('color')\n",
    "plt.ylabel('price ($)')\n",
    "plt.show()"
   ]
  },
  {
   "cell_type": "markdown",
   "metadata": {},
   "source": [
    "It seems that black vehicles are generally more expensive"
   ]
  },
  {
   "cell_type": "code",
   "execution_count": null,
   "metadata": {},
   "outputs": [],
   "source": [
    "new_truck.boxplot(column='price', by='transmission')\n",
    "plt.xticks(rotation=60)\n",
    "plt.xlabel('transmission')\n",
    "plt.ylabel('price ($)')\n",
    "plt.show()"
   ]
  },
  {
   "cell_type": "markdown",
   "metadata": {},
   "source": [
    "Of course, automatic gearbox vehicles are more expensive than manual"
   ]
  },
  {
   "attachments": {},
   "cell_type": "markdown",
   "metadata": {},
   "source": [
    "Lets repeat for the second most posted type of vehicle: SUV"
   ]
  },
  {
   "cell_type": "code",
   "execution_count": null,
   "metadata": {},
   "outputs": [],
   "source": [
    "suv_filter = df_price_age_filtered['type'] == 'SUV'\n",
    "suv = df_price_age_filtered[suv_filter]"
   ]
  },
  {
   "attachments": {},
   "cell_type": "markdown",
   "metadata": {},
   "source": [
    "Since the last dataframe has 18 column but we need just need 6 we have to eliminate some columns"
   ]
  },
  {
   "cell_type": "code",
   "execution_count": null,
   "metadata": {},
   "outputs": [],
   "source": [
    "new_suv = suv.drop(['model_year', 'model', 'condition', 'cylinders', 'fuel', 'is_4wd', 'date_posted', 'days_listed', 'miles/year', 'day_posted', 'month_posted'], axis='columns')"
   ]
  },
  {
   "attachments": {},
   "cell_type": "markdown",
   "metadata": {},
   "source": [
    "Lets use now the correlation matrix:"
   ]
  },
  {
   "cell_type": "code",
   "execution_count": null,
   "metadata": {},
   "outputs": [],
   "source": [
    "new_suv.corr()"
   ]
  },
  {
   "attachments": {},
   "cell_type": "markdown",
   "metadata": {},
   "source": [
    "The behaviour is pretty similar as the truck type"
   ]
  },
  {
   "attachments": {},
   "cell_type": "markdown",
   "metadata": {},
   "source": [
    "To analyze the correlation with categorical variables (transmission type and color) we use boxplot"
   ]
  },
  {
   "cell_type": "code",
   "execution_count": null,
   "metadata": {},
   "outputs": [],
   "source": [
    "\n",
    "new_suv.boxplot(column='price', by='paint_color')\n",
    "plt.xticks(rotation=60)\n",
    "plt.xlabel('color')\n",
    "plt.ylabel('price ($)')\n",
    "plt.show()"
   ]
  },
  {
   "attachments": {},
   "cell_type": "markdown",
   "metadata": {},
   "source": [
    "In this case, orange seems to be the most expensive color"
   ]
  },
  {
   "cell_type": "code",
   "execution_count": null,
   "metadata": {},
   "outputs": [],
   "source": [
    "new_suv.boxplot(column='price', by='transmission')\n",
    "plt.xticks(rotation=60)\n",
    "plt.xlabel('transmission')\n",
    "plt.ylabel('price ($)')\n",
    "plt.show()"
   ]
  },
  {
   "attachments": {},
   "cell_type": "markdown",
   "metadata": {},
   "source": [
    "It seems weird but for SUV vehicles, manual gearbox is more expensive"
   ]
  },
  {
   "attachments": {},
   "cell_type": "markdown",
   "metadata": {},
   "source": [
    "Lets focus now on the scatter plot diagrams"
   ]
  },
  {
   "cell_type": "code",
   "execution_count": null,
   "metadata": {},
   "outputs": [],
   "source": [
    "pd.plotting.scatter_matrix(new_truck, figsize=(8, 8)) \n",
    "plt.show()"
   ]
  },
  {
   "attachments": {},
   "cell_type": "markdown",
   "metadata": {},
   "source": [
    "Each cell in this 4x4 grid shows a relationship between a pair of parameters. Let's take a look:\n",
    "\n",
    "- The top left cell shows the connection between price and price. This is not a scatterplot, but an ordinary histogram showing the distribution of price. We can see that normally cars costs between 8000 and 20000$.\n",
    "- The cell below shows the connection between price and mileage. The natural trend is that the less mileage the vehicle has the higher it will cost.\n",
    "- Price and age: similarly as the cell above, the trend is that the less is the age higher it will cost and viceversa.\n",
    "- The bottom left cell of the scatterplot shows that vehicles in better conditions are generally more expensive. \n",
    "- The condition histogram (bottom right) shows that the majority of vehicles are in good and excellent condition.\n",
    "- The car_age histogram tells us that a large amount of data was collected on vehicles aged less than 15.\n",
    "- The odometer histogram shows one peaks at 120000 miles. This is apparently the usual mileage for used cars for sale\n",
    "- On the other side of the diagonal we see identical images of the same data; the axes are reversed"
   ]
  },
  {
   "attachments": {},
   "cell_type": "markdown",
   "metadata": {},
   "source": [
    "Lets see the second scatter plot diagram:"
   ]
  },
  {
   "cell_type": "code",
   "execution_count": null,
   "metadata": {},
   "outputs": [],
   "source": [
    "pd.plotting.scatter_matrix(new_suv, figsize=(8, 8)) \n",
    "plt.show()"
   ]
  },
  {
   "attachments": {},
   "cell_type": "markdown",
   "metadata": {},
   "source": [
    "Behaviour is pretty similar as the first one."
   ]
  },
  {
   "attachments": {},
   "cell_type": "markdown",
   "metadata": {},
   "source": [
    "## Conclusion <a id='conclusion'></a>"
   ]
  },
  {
   "attachments": {},
   "cell_type": "markdown",
   "metadata": {},
   "source": [
    "We started our project with a 51525x13 dataframe with 6 columns with null values inside them. First important thing we've done is replacing the absent values in 'model_year' with the median value of the rows with the same 'model' using a lambda function. We did the same with 'cylinder' and 'odometer'. The null values in 'paint_color' column have been replaced with 'custom', already present among the data. The 'is_4wd' columns has been filled just adding zeros to absent values. After that we changed some type format. We added some columns:\n",
    "- car_age\n",
    "- miles/year\n",
    "- condition_ind\n",
    "- day_posted\n",
    "- month_posted."
   ]
  },
  {
   "attachments": {},
   "cell_type": "markdown",
   "metadata": {},
   "source": [
    "After that we studied the principal parameters (price, car age, mileage, number of cylinders and condition) with histograms and bars charts. Doing so we realized that there were outliers among our data so we did operate to erase them.\n",
    "Once did so we compared the old and the new filtered dataframe.\n",
    "Period of posting, average price and price correlation factors have been studied as well"
   ]
  }
 ],
 "metadata": {
  "ExecuteTimeLog": [
   {
    "duration": 828,
    "start_time": "2021-11-16T09:21:11.304Z"
   },
   {
    "duration": 893,
    "start_time": "2021-11-16T09:21:17.728Z"
   },
   {
    "duration": 1150,
    "start_time": "2021-11-16T09:21:29.568Z"
   },
   {
    "duration": 3,
    "start_time": "2021-11-16T09:24:14.495Z"
   },
   {
    "duration": 120,
    "start_time": "2021-11-16T09:24:46.630Z"
   },
   {
    "duration": 3,
    "start_time": "2021-11-16T09:28:27.882Z"
   },
   {
    "duration": 4,
    "start_time": "2021-11-16T09:29:54.281Z"
   },
   {
    "duration": 3,
    "start_time": "2021-11-16T09:30:45.936Z"
   },
   {
    "duration": 4,
    "start_time": "2021-11-16T09:31:06.300Z"
   },
   {
    "duration": 113,
    "start_time": "2021-11-16T09:31:37.208Z"
   },
   {
    "duration": 143,
    "start_time": "2021-11-16T09:31:48.656Z"
   },
   {
    "duration": 98,
    "start_time": "2021-11-16T09:31:55.678Z"
   },
   {
    "duration": 3,
    "start_time": "2021-11-16T09:32:08.535Z"
   },
   {
    "duration": 111,
    "start_time": "2021-11-16T09:32:10.120Z"
   },
   {
    "duration": 3,
    "start_time": "2021-11-16T09:32:15.732Z"
   },
   {
    "duration": 4,
    "start_time": "2021-11-16T09:32:29.423Z"
   },
   {
    "duration": 3,
    "start_time": "2021-11-16T10:03:03.074Z"
   },
   {
    "duration": 3,
    "start_time": "2021-11-16T10:10:01.288Z"
   },
   {
    "duration": 3,
    "start_time": "2021-11-16T10:10:46.923Z"
   },
   {
    "duration": 121,
    "start_time": "2021-11-16T10:37:46.494Z"
   },
   {
    "duration": 125,
    "start_time": "2021-11-16T10:38:20.632Z"
   },
   {
    "duration": 112,
    "start_time": "2021-11-16T10:46:53.001Z"
   },
   {
    "duration": 110,
    "start_time": "2021-11-16T10:48:25.775Z"
   },
   {
    "duration": 3,
    "start_time": "2021-11-16T10:50:18.720Z"
   },
   {
    "duration": 4,
    "start_time": "2021-11-16T10:50:37.649Z"
   },
   {
    "duration": 2,
    "start_time": "2021-11-16T10:50:51.884Z"
   },
   {
    "duration": 3,
    "start_time": "2021-11-16T10:51:56.237Z"
   },
   {
    "duration": 101,
    "start_time": "2021-11-16T10:53:13.791Z"
   },
   {
    "duration": 3,
    "start_time": "2021-11-16T10:55:59.186Z"
   },
   {
    "duration": 3,
    "start_time": "2021-11-16T10:56:10.751Z"
   },
   {
    "duration": 3,
    "start_time": "2021-11-16T10:56:49.038Z"
   },
   {
    "duration": 3,
    "start_time": "2021-11-16T10:56:49.174Z"
   },
   {
    "duration": 4,
    "start_time": "2021-11-16T10:56:49.414Z"
   },
   {
    "duration": 3,
    "start_time": "2021-11-16T10:56:49.680Z"
   },
   {
    "duration": 3,
    "start_time": "2021-11-16T10:56:50.370Z"
   },
   {
    "duration": 114,
    "start_time": "2021-11-16T10:59:34.518Z"
   },
   {
    "duration": 3,
    "start_time": "2021-11-16T11:01:41.201Z"
   },
   {
    "duration": 116,
    "start_time": "2021-11-16T11:01:48.754Z"
   },
   {
    "duration": 3,
    "start_time": "2021-11-16T11:02:16.685Z"
   },
   {
    "duration": 3,
    "start_time": "2021-11-16T11:02:19.479Z"
   },
   {
    "duration": 3,
    "start_time": "2021-11-16T11:02:47.067Z"
   },
   {
    "duration": 3,
    "start_time": "2021-11-16T11:02:49.353Z"
   },
   {
    "duration": 3,
    "start_time": "2021-11-16T11:03:07.835Z"
   },
   {
    "duration": 3,
    "start_time": "2021-11-16T11:03:07.953Z"
   },
   {
    "duration": 112,
    "start_time": "2021-11-16T11:07:52.072Z"
   },
   {
    "duration": 187,
    "start_time": "2021-11-16T11:09:23.468Z"
   },
   {
    "duration": 4,
    "start_time": "2021-11-16T11:10:01.455Z"
   },
   {
    "duration": 3,
    "start_time": "2021-11-16T11:10:05.069Z"
   },
   {
    "duration": 4,
    "start_time": "2021-11-16T11:10:13.376Z"
   },
   {
    "duration": 3,
    "start_time": "2021-11-16T11:10:14.434Z"
   },
   {
    "duration": 3,
    "start_time": "2021-11-16T11:10:22.853Z"
   },
   {
    "duration": 4,
    "start_time": "2021-11-16T11:27:29.279Z"
   },
   {
    "duration": 4,
    "start_time": "2021-11-16T11:29:08.919Z"
   },
   {
    "duration": 118,
    "start_time": "2021-11-16T11:29:46.703Z"
   },
   {
    "duration": 437,
    "start_time": "2021-11-16T11:36:02.181Z"
   },
   {
    "duration": 157,
    "start_time": "2021-11-16T11:36:14.388Z"
   },
   {
    "duration": 207,
    "start_time": "2021-11-16T11:47:15.898Z"
   },
   {
    "duration": 3,
    "start_time": "2021-11-16T11:53:52.092Z"
   },
   {
    "duration": 3,
    "start_time": "2021-11-16T11:53:52.236Z"
   },
   {
    "duration": 3,
    "start_time": "2021-11-16T11:59:12.005Z"
   },
   {
    "duration": 112,
    "start_time": "2021-11-16T12:00:33.446Z"
   },
   {
    "duration": 3,
    "start_time": "2021-11-16T12:02:14.453Z"
   },
   {
    "duration": 3,
    "start_time": "2021-11-16T12:02:39.512Z"
   },
   {
    "duration": 106,
    "start_time": "2021-11-16T12:03:03.460Z"
   }
  ],
  "kernelspec": {
   "display_name": "Python 3 (ipykernel)",
   "language": "python",
   "name": "python3"
  },
  "language_info": {
   "codemirror_mode": {
    "name": "ipython",
    "version": 3
   },
   "file_extension": ".py",
   "mimetype": "text/x-python",
   "name": "python",
   "nbconvert_exporter": "python",
   "pygments_lexer": "ipython3",
   "version": "3.10.8 (tags/v3.10.8:aaaf517, Oct 11 2022, 16:50:30) [MSC v.1933 64 bit (AMD64)]"
  },
  "toc": {
   "base_numbering": 1,
   "nav_menu": {},
   "number_sections": true,
   "sideBar": true,
   "skip_h1_title": false,
   "title_cell": "Table of Contents",
   "title_sidebar": "Contents",
   "toc_cell": false,
   "toc_position": {},
   "toc_section_display": true,
   "toc_window_display": false
  },
  "vscode": {
   "interpreter": {
    "hash": "26de051ba29f2982a8de78e945f0abaf191376122a1563185a90213a26c5da77"
   }
  }
 },
 "nbformat": 4,
 "nbformat_minor": 2
}
